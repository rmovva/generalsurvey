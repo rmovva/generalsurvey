{
 "cells": [
  {
   "cell_type": "markdown",
   "metadata": {},
   "source": [
    "Start by loading data and converting the columns from questions to names. Shuffle rows for privacy."
   ]
  },
  {
   "cell_type": "code",
   "execution_count": 11,
   "metadata": {
    "collapsed": false
   },
   "outputs": [],
   "source": [
    "import pandas as pd\n",
    "import scipy.stats as sp\n",
    "\n",
    "df = pd.read_csv('responses2.tsv',\n",
    "                 sep = '\\t')"
   ]
  },
  {
   "cell_type": "code",
   "execution_count": 12,
   "metadata": {
    "collapsed": false
   },
   "outputs": [
    {
     "data": {
      "text/plain": [
       "Index([u'Timestamp', u'How old are you?', u'What grade are you in?',\n",
       "       u'What do you want to do when you grow up? (probably forgetting things, feel free to liberally use the \"Other\" box)',\n",
       "       u'Have you been in any relationships (>1 month long) in high school?',\n",
       "       u'How many >1 month relationships have you been in while in high school? (yes, I know I can infer the answer to the previous question from the data for this one, but I am adding this question later and therefore cannot edit the previous one)',\n",
       "       u'What is your weighted GPA? (can check on Harker transcript, or can just give approximate value, or calculate here, courtesy of Neeraj: tiny.cc/gpa)',\n",
       "       u'What is your unweighted GPA? (4.0 is maximum; can just give approximate value, or calculate here: tiny.cc/gpa)',\n",
       "       u'What's your favorite subject?',\n",
       "       u'Broadly speaking, do you feel stressed?',\n",
       "       u'What classes are you taking? Please list using separate lines per class.',\n",
       "       u'What ethnicity are you?', u'How many of your classes are honors?',\n",
       "       u'Do you drive?', u'How many of your classes are APs?',\n",
       "       u'If you know your IQ, what is it? (if you've only taken a sketchy test online, leave this blank)',\n",
       "       u'What activity/hobby are you most involved in?',\n",
       "       u'What type of music do you enjoy most?',\n",
       "       u'Seniors: which college (that you have a nonzero chance of getting into) is your top choice?',\n",
       "       u'What gender are you?',\n",
       "       u'How much sleep do you get on an average school night? (# of hours)',\n",
       "       u'Do you think school meetings are necessary?',\n",
       "       u'Who's your favorite teacher? (last name only, please)',\n",
       "       u'Who's your 2nd favorite teacher? (last name only, please)'],\n",
       "      dtype='object')"
      ]
     },
     "execution_count": 12,
     "metadata": {},
     "output_type": "execute_result"
    }
   ],
   "source": [
    "print df.columns"
   ]
  },
  {
   "cell_type": "code",
   "execution_count": 13,
   "metadata": {
    "collapsed": true
   },
   "outputs": [],
   "source": [
    "df.columns = ['time', 'age', 'grade', 'occupation',\n",
    "              'relation_binary', 'relation_num', 'wgpa', 'ugpa',\n",
    "              'favsubj', 'stress', 'classes', 'race', \n",
    "              'honors', 'drive', 'aps', 'iq', 'hobby',\n",
    "              'music', 'college', 'gender', 'sleep',\n",
    "              'mtgs', 'teacher1', 'teacher2']"
   ]
  },
  {
   "cell_type": "code",
   "execution_count": 28,
   "metadata": {
    "collapsed": true
   },
   "outputs": [],
   "source": [
    "df = df.sample(frac=1).reset_index(drop=True)"
   ]
  },
  {
   "cell_type": "markdown",
   "metadata": {},
   "source": [
    "First comparison - weighted GPA in stressed groups vs. non-stressed groups"
   ]
  },
  {
   "cell_type": "code",
   "execution_count": 30,
   "metadata": {
    "collapsed": false
   },
   "outputs": [
    {
     "name": "stdout",
     "output_type": "stream",
     "text": [
      "49\n"
     ]
    }
   ],
   "source": [
    "print len(df['wgpa'])"
   ]
  },
  {
   "cell_type": "code",
   "execution_count": 27,
   "metadata": {
    "collapsed": false
   },
   "outputs": [
    {
     "name": "stdout",
     "output_type": "stream",
     "text": [
      "17\n",
      "21\n",
      "4.10588235294\n",
      "4.39428571429\n",
      "Ttest_indResult(statistic=-3.3081323265538001, pvalue=0.0021385305321256591)\n",
      "MannwhitneyuResult(statistic=77.5, pvalue=0.0015633761704365444)\n"
     ]
    }
   ],
   "source": [
    "import numpy as np\n",
    "\n",
    "nonNan = np.logical_not(np.isnan(df['wgpa']))\n",
    "\n",
    "# stressGpas = df['wgpa'][df['stress'] == 'Yes']\n",
    "# unstressGpas = df['wgpa'][df['stress'] == 'No']\n",
    "stressGpas = df['wgpa'][np.logical_and(df['stress'] == 'Yes', nonNan)]\n",
    "unstressGpas = df['wgpa'][np.logical_and(df['stress'] == 'No', nonNan)]\n",
    "\n",
    "print len(stressGpas)\n",
    "print len(unstressGpas)\n",
    "\n",
    "print np.nanmean(stressGpas)\n",
    "print np.nanmean(unstressGpas)\n",
    "print sp.ttest_ind(stressGpas, unstressGpas)\n",
    "print sp.mannwhitneyu(stressGpas, unstressGpas)"
   ]
  },
  {
   "cell_type": "markdown",
   "metadata": {},
   "source": [
    "The p-value appears pretty significant (probability of these data if there were no relationship = 0.002) that people who report not being stressed have higher GPA. thi"
   ]
  },
  {
   "cell_type": "code",
   "execution_count": 40,
   "metadata": {
    "collapsed": false
   },
   "outputs": [
    {
     "data": {
      "image/png": "[encoded data removed]",
      "text/plain": [
       "<matplotlib.figure.Figure at 0x110f1fdd0>"
      ]
     },
     "metadata": {},
     "output_type": "display_data"
    }
   ],
   "source": [
    "import matplotlib.pyplot as plt\n",
    "import seaborn as sns\n",
    "\n",
    "sns.set(style = 'ticks')\n",
    "\n",
    "plt.figure(figsize=(4,4), dpi=125)\n",
    "\n",
    "sns.boxplot(data = df, y = 'wgpa', x = 'stress')\n",
    "\n",
    "plt.show()"
   ]
  },
  {
   "cell_type": "code",
   "execution_count": null,
   "metadata": {
    "collapsed": true
   },
   "outputs": [],
   "source": []
  }
 ],
 "metadata": {
  "kernelspec": {
   "display_name": "Python 2",
   "language": "python",
   "name": "python2"
  },
  "language_info": {
   "codemirror_mode": {
    "name": "ipython",
    "version": 2
   },
   "file_extension": ".py",
   "mimetype": "text/x-python",
   "name": "python",
   "nbconvert_exporter": "python",
   "pygments_lexer": "ipython2",
   "version": "2.7.13"
  }
 },
 "nbformat": 4,
 "nbformat_minor": 2
}
